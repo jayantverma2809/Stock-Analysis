{
 "cells": [
  {
   "cell_type": "code",
   "execution_count": 3,
   "metadata": {},
   "outputs": [],
   "source": [
    "from yahoo_fin import stock_info as si\n"
   ]
  },
  {
   "cell_type": "code",
   "execution_count": 1,
   "metadata": {},
   "outputs": [],
   "source": [
    "import pandas as pd\n",
    "import numpy as np\n",
    "import plotly.express as px"
   ]
  },
  {
   "cell_type": "code",
   "execution_count": 2,
   "metadata": {},
   "outputs": [],
   "source": [
    "stocks_ticker = pd.read_csv(\"stocks_ticker.csv\")\n",
    "base_url = \"https://ticker.finology.in/company/\""
   ]
  },
  {
   "cell_type": "code",
   "execution_count": 3,
   "metadata": {},
   "outputs": [],
   "source": [
    "#Creating list of Stocks listed in NSE\n",
    "def get_stock_names():\n",
    "    stocks = list(stocks_ticker['Company Name'])\n",
    "    return stocks\n",
    "\n",
    "#Creating dictionary of stocks and their tickers for fetching data from yahoo finance\n",
    "def get_stock_ticker_dict():\n",
    "    dict_stocks = dict(zip(stocks_ticker['Company Name'],stocks_ticker.Symbol))\n",
    "    return dict_stocks\n",
    "\n",
    "#Fundamental Analysis\n",
    "\n",
    "#Getting Financial Tables\n",
    "def get_tables(ticker):\n",
    "    tables = pd.read_html(\"https://ticker.finology.in/company/\"+ticker)\n",
    "    return tables\n",
    "\n",
    "#Separating Balance Sheet\n",
    "def get_balance_sheet(ticker):\n",
    "    balance_sheet = get_tables(ticker)[3]\n",
    "    balance_sheet.reset_index(drop=True,inplace=True)\n",
    "    balance_sheet.fillna(\"-\",inplace=True)\n",
    "    return balance_sheet\n",
    "\n",
    "#Separating Profit and Loss Statement\n",
    "def get_profit_and_loss(ticker):\n",
    "    p_and_l = get_tables(ticker)[2]\n",
    "    return p_and_l\n",
    "\n",
    "#Separating Cash Flow Statement\n",
    "def get_cashflow(ticker):\n",
    "    cash_flow = get_tables(ticker)[4]\n",
    "    cash_flow = cash_flow.iloc[:,0:6]\n",
    "    return cash_flow\n",
    "\n",
    "#Separating Quarterly Results\n",
    "def get_quarterly_results(ticker):\n",
    "    quarter_results = get_tables(ticker)[1]\n",
    "    return quarter_results\n",
    "\n",
    "#Separating Promoter Details\n",
    "def get_promoter_details(ticker):\n",
    "    promoters = get_tables(ticker)[5]\n",
    "    return promoters\n",
    "\n",
    "#Separating Promoter Details in case of Banking Stocks\n",
    "def get_promoter_details_bank(ticker):\n",
    "    promoters = get_tables(ticker)[4]\n",
    "    return promoters\n",
    "\n",
    "#Separating Investor Details\n",
    "def get_investor_details(ticker):\n",
    "    investors = get_tables(ticker)[6]\n",
    "    return investors\n",
    "\n",
    "#Separating Investor Details in case of Banking stocks\n",
    "def get_investor_details_bank(ticker):\n",
    "    investors = get_tables(ticker)[5]\n",
    "    return investors\n",
    "\n",
    "#Separating Pledging Details\n",
    "def get_promoter_pledging(ticker):\n",
    "    pledging = get_tables(ticker)[0]\n",
    "    return pledging\n",
    "\n",
    "#Technical Analysis\n",
    "\n",
    "#Simple Moving Average\n",
    "def SMA(data, ndays): \n",
    "    SMA = pd.Series(data['close'].rolling(ndays).mean(), name = 'SMA') \n",
    "    data = data.join(SMA) \n",
    "    return data\n",
    "\n",
    "#Exponentially-weighted Moving Average \n",
    "def EWMA(data, ndays): \n",
    "    EMA = pd.Series(data['close'].ewm(span = ndays, min_periods = ndays - 1).mean(), \n",
    "                 name = 'EWMA_' + str(ndays)) \n",
    "    data = data.join(EMA) \n",
    "    return data\n",
    "\n",
    "#Calculating Simple Moving Average for given duration and plotting it\n",
    "def calculate_and_plot__sma(data,ndays,ticker):\n",
    "    sma = SMA(data,ndays)\n",
    "    sma = sma.dropna()\n",
    "    sma = sma['SMA']\n",
    "    temp_df = pd.DataFrame({\"Price\":data[\"close\"],\"SMA\":sma},index=data.index)\n",
    "    fig = px.line(temp_df,x=temp_df.index,y=temp_df.columns,title=ticker, labels={'value': 'Price', 'index': 'Date'},line_shape=\"spline\")\n",
    "    return fig\n",
    "\n",
    "#Calculating Exponentially-weighted Moving Average for given duration and plotting it\n",
    "def calculate_and_plot__ewma(data,ndays,ticker):\n",
    "    ewma = EWMA(data,ndays)\n",
    "    ewma = ewma.dropna()\n",
    "    ewma = ewma['EWMA_'+str(ndays)]\n",
    "    temp_df = pd.DataFrame({\"Price\":data[\"close\"],\"EWMA\":ewma},index=data.index)\n",
    "    fig = px.line(temp_df,x=temp_df.index,y=temp_df.columns,title=ticker, labels={'value': 'Price', 'index': 'Date'},line_shape=\"spline\")\n",
    "    return fig\n",
    "\n",
    "#Relative-Strength Index\n",
    "def rsi(close, periods = 14):\n",
    "    close_delta = close.diff()\n",
    "    # Make two series: one for lower closes and one for higher closes\n",
    "    up = close_delta.clip(lower=0)\n",
    "    down = -1 * close_delta.clip(upper=0)\n",
    "    ma_up = up.ewm(com = periods - 1, adjust=True, min_periods = periods).mean()\n",
    "    ma_down = down.ewm(com = periods - 1, adjust=True, min_periods = periods).mean()\n",
    "    rsi = ma_up / ma_down\n",
    "    rsi = 100 - (100/(1 + rsi))\n",
    "    return rsi\n",
    "\n",
    "#Calculating RSI and plotting it\n",
    "def calculate_and_plot_rsi(data,ticker):\n",
    "    data['RSI'] = rsi(data['close'])\n",
    "    temp_df = pd.DataFrame({\"Price\":data['close'],\"RSI\":data['RSI']},index=data.index)\n",
    "    fig = px.line(temp_df, x=temp_df.index, y=temp_df.RSI, title=ticker, labels={'value': 'Price', 'index': 'Date'},line_shape=\"spline\")\n",
    "    return fig\n",
    "\n",
    "#Bollinger Bands\n",
    "def bollinger_bands(data,n):\n",
    "    MA = data.close.rolling(window=n).mean()\n",
    "    SD = data.close.rolling(window=n).std()\n",
    "    data['MiddleBand'] = MA\n",
    "    data['UpperBand'] = MA + (2 * SD) \n",
    "    data['LowerBand'] = MA - (2 * SD)\n",
    "    return data\n",
    "\n",
    "#Calculating Bollinger Bands and plotting it\n",
    "def calculate_and_plot_bollinger(data,ndays,ticker):\n",
    "    data = bollinger_bands(data,ndays)\n",
    "    temp_df = pd.DataFrame({\"Price\":data['close'],\"Upper Band\":data['UpperBand'],\"Middle Band\":data[\"MiddleBand\"],\"Lower Band\":data['LowerBand']},index=data.index)\n",
    "    fig = px.line(temp_df,x=temp_df.index,y=temp_df.columns,title=ticker,labels={'value': 'Price', 'index': 'Date'},color_discrete_map={\"Upper Band\": \"black\", \"Middle Band\": \"red\", \"Lower Band\": \"black\",\"Price\":\"blue\"})\n",
    "    return fig\n",
    "    \n",
    "#Volume\n",
    "def plot_volume(data,ticker):\n",
    "    fig = px.bar(data,x=data.index,y=data['volume']/1000000,title=ticker,labels={'y':'Million','index':'Date'})\n",
    "    return fig\n"
   ]
  },
  {
   "cell_type": "code",
   "execution_count": 15,
   "metadata": {},
   "outputs": [],
   "source": [
    "a = 'jayant'"
   ]
  },
  {
   "cell_type": "code",
   "execution_count": 17,
   "metadata": {},
   "outputs": [
    {
     "data": {
      "text/plain": [
       "'jay'"
      ]
     },
     "execution_count": 17,
     "metadata": {},
     "output_type": "execute_result"
    }
   ],
   "source": [
    "a[:-3]"
   ]
  },
  {
   "cell_type": "code",
   "execution_count": 24,
   "metadata": {},
   "outputs": [],
   "source": [
    "def build_url(ticker, start_date = None, end_date = None, interval = \"1d\"):\n",
    "    base_url = \"https://query1.finance.yahoo.com/v8/finance/chart/\"\n",
    "    \n",
    "    if end_date is None:  \n",
    "        end_seconds = int(pd.Timestamp(\"now\").timestamp())\n",
    "        \n",
    "    else:\n",
    "        end_seconds = int(pd.Timestamp(end_date).timestamp())\n",
    "        \n",
    "    if start_date is None:\n",
    "        start_seconds = 7223400    \n",
    "        \n",
    "    else:\n",
    "        start_seconds = int(pd.Timestamp(start_date).timestamp())\n",
    "    \n",
    "    site = base_url + ticker\n",
    "    \n",
    "    params = {\"period1\": start_seconds, \"period2\": end_seconds,\n",
    "              \"interval\": interval.lower(), \"events\": \"div,splits\"}\n",
    "    \n",
    "    \n",
    "    return site, params\n",
    "\n",
    "def get_data(ticker, start_date = None, end_date = None, index_as_date = True,\n",
    "             interval = \"1d\", headers = {'User-Agent': 'Mozilla/5.0 (Macintosh; Intel Mac OS X 10_10_1) AppleWebKit/537.36 (KHTML, like Gecko) Chrome/39.0.2171.95 Safari/537.36'}\n",
    "):\n",
    "    '''Downloads historical stock price data into a pandas data frame.  Interval\n",
    "       must be \"1d\", \"1wk\", \"1mo\", or \"1m\" for daily, weekly, monthly, or minute data.\n",
    "       Intraday minute data is limited to 7 days.\n",
    "    \n",
    "       @param: ticker\n",
    "       @param: start_date = None\n",
    "       @param: end_date = None\n",
    "       @param: index_as_date = True\n",
    "       @param: interval = \"1d\"\n",
    "    '''\n",
    "    \n",
    "    if interval not in (\"1d\", \"1wk\", \"1mo\", \"1m\"):\n",
    "        raise AssertionError(\"interval must be of of '1d', '1wk', '1mo', or '1m'\")\n",
    "    \n",
    "    \n",
    "    # build and connect to URL\n",
    "    site, params = build_url(ticker, start_date, end_date, interval)\n",
    "    resp = requests.get(site, params = params, headers = headers)\n",
    "    \n",
    "    \n",
    "    if not resp.ok:\n",
    "        raise AssertionError(resp.json())\n",
    "        \n",
    "    \n",
    "    # get JSON response\n",
    "    data = resp.json()\n",
    "    \n",
    "    # get open / high / low / close data\n",
    "    frame = pd.DataFrame(data[\"chart\"][\"result\"][0][\"indicators\"][\"quote\"][0])\n",
    "\n",
    "    # get the date info\n",
    "    temp_time = data[\"chart\"][\"result\"][0][\"timestamp\"]\n",
    "\n",
    "    if interval != \"1m\":\n",
    "    \n",
    "        # add in adjclose\n",
    "        frame[\"adjclose\"] = data[\"chart\"][\"result\"][0][\"indicators\"][\"adjclose\"][0][\"adjclose\"]   \n",
    "        frame.index = pd.to_datetime(temp_time, unit = \"s\")\n",
    "        frame.index = frame.index.map(lambda dt: dt.floor(\"d\"))\n",
    "        frame = frame[[\"open\", \"high\", \"low\", \"close\", \"adjclose\", \"volume\"]]\n",
    "            \n",
    "    else:\n",
    "\n",
    "        frame.index = pd.to_datetime(temp_time, unit = \"s\")\n",
    "        frame = frame[[\"open\", \"high\", \"low\", \"close\", \"volume\"]]\n",
    "        \n",
    "        \n",
    "    frame['ticker'] = ticker.upper()\n",
    "    \n",
    "    if not index_as_date:  \n",
    "        frame = frame.reset_index()\n",
    "        frame.rename(columns = {\"index\": \"date\"}, inplace = True)\n",
    "        \n",
    "    return frame\n",
    "\n",
    "def force_float(elt):\n",
    "    \n",
    "    try:\n",
    "        return float(elt)\n",
    "    except:\n",
    "        return elt\n",
    "    \n",
    "def get_live_price(ticker):\n",
    "    \n",
    "    '''Gets the live price of input ticker\n",
    "    \n",
    "       @param: ticker\n",
    "    '''    \n",
    "    \n",
    "    df = get_data(ticker, end_date = pd.Timestamp.today() + pd.DateOffset(10))\n",
    "    \n",
    "    \n",
    "    return df.close[-1]"
   ]
  },
  {
   "cell_type": "code",
   "execution_count": 29,
   "metadata": {},
   "outputs": [],
   "source": [
    "def get_quote_table(ticker , dict_result = True, headers = {'User-agent': 'Mozilla/5.0'}): \n",
    "    \n",
    "    '''Scrapes data elements found on Yahoo Finance's quote page \n",
    "       of input ticker\n",
    "    \n",
    "       @param: ticker\n",
    "       @param: dict_result = True\n",
    "    '''\n",
    "\n",
    "    site = \"https://finance.yahoo.com/quote/\" + ticker + \"?p=\" + ticker\n",
    "    \n",
    "    tables = pd.read_html(StringIO(requests.get(site, headers=headers).text))\n",
    "\n",
    "    data = pd.concat([tables[0], tables[1]], axis=0)\n",
    "\n",
    "    data.columns = [\"attribute\" , \"value\"]\n",
    "    \n",
    "    quote_price = pd.DataFrame([\"Quote Price\", get_live_price(ticker)]).transpose()\n",
    "    quote_price.columns = data.columns.copy()\n",
    "    \n",
    "    data = pd.concat([data, quote_price], axis=0)\n",
    "    \n",
    "    data = data.sort_values(\"attribute\")\n",
    "    \n",
    "    data = data.drop_duplicates().reset_index(drop = True)\n",
    "    \n",
    "    data[\"value\"] = data.value.map(force_float)\n",
    "\n",
    "    if dict_result:\n",
    "        \n",
    "        result = {key : val for key,val in zip(data.attribute , data.value)}\n",
    "        return result\n",
    "        \n",
    "    return data "
   ]
  },
  {
   "cell_type": "code",
   "execution_count": 6,
   "metadata": {},
   "outputs": [],
   "source": [
    "stocks = get_stock_names()\n",
    "stock_dict = get_stock_ticker_dict()"
   ]
  },
  {
   "cell_type": "code",
   "execution_count": 1,
   "metadata": {},
   "outputs": [],
   "source": [
    "import requests\n",
    "from io import StringIO\n",
    "import pandas as pd"
   ]
  },
  {
   "cell_type": "code",
   "execution_count": 89,
   "metadata": {},
   "outputs": [],
   "source": [
    "response = requests.get(\"https://ticker.finology.in/company/TCS\")"
   ]
  },
  {
   "cell_type": "code",
   "execution_count": 90,
   "metadata": {},
   "outputs": [],
   "source": [
    "from bs4 import BeautifulSoup\n",
    "\n",
    "# Assuming the HTML content is stored in a variable called 'html_content'\n",
    "soup = BeautifulSoup(response.text, 'html.parser')"
   ]
  },
  {
   "cell_type": "code",
   "execution_count": 125,
   "metadata": {},
   "outputs": [],
   "source": [
    "values_dict = {}"
   ]
  },
  {
   "cell_type": "code",
   "execution_count": 126,
   "metadata": {},
   "outputs": [],
   "source": [
    "values_dict['Quote Price'] = soup.select_one('span.Number').text.strip()\n",
    "values_dict[\"high\"] = soup.select_one('span#mainContent_ltrlTodayHigh').text.strip()\n",
    "values_dict[\"low\"] = soup.select_one('span#mainContent_ltrlTodayLow').text.strip()\n",
    "values_dict[\"week_52_high\"] = soup.select_one('span#mainContent_ltrl52WH').text.strip()\n",
    "values_dict[\"week_52_low\"] = soup.select_one('span#mainContent_ltrl52WL').text.strip()"
   ]
  },
  {
   "cell_type": "code",
   "execution_count": 92,
   "metadata": {},
   "outputs": [],
   "source": [
    "div_content = soup.select_one('div#mainContent_updAddRatios')"
   ]
  },
  {
   "cell_type": "code",
   "execution_count": 127,
   "metadata": {},
   "outputs": [],
   "source": [
    "for i in div_content.find_all('div', 'col-6 col-md-4 compess'):\n",
    "\ttry:\n",
    "\t\tvalues_dict[i.find('small').text.strip()] = i.find('p').text.strip().replace(\"\\n\",\"\").replace(\"\\r\",\"\").replace(\" \",\"\").replace(\"\\xa0\", \"\")\n",
    "\texcept:\n",
    "\t\tcontinue"
   ]
  },
  {
   "cell_type": "code",
   "execution_count": 128,
   "metadata": {},
   "outputs": [
    {
     "data": {
      "text/plain": [
       "{'price': '3960.20',\n",
       " 'high': '3971',\n",
       " 'low': '3910.05',\n",
       " 'week_52_high': '4254.75',\n",
       " 'week_52_low': '3156',\n",
       " 'Market Cap': '₹1432835.02Cr.',\n",
       " 'Enterprise Value': '₹1426236.02Cr.',\n",
       " 'No. of Shares': '361.81Cr.',\n",
       " 'P/E': '32.89',\n",
       " 'P/B': '19.96',\n",
       " 'Face Value': '₹1',\n",
       " 'Div. Yield': '1.84%',\n",
       " 'Book Value (TTM)': '₹198.39',\n",
       " 'CASH': '₹6599Cr.',\n",
       " 'DEBT': '₹0Cr.',\n",
       " 'Promoter Holding': '71.77%',\n",
       " 'EPS (TTM)': '₹120.39',\n",
       " 'Sales Growth': '6.31%',\n",
       " 'ROE': '59.6%',\n",
       " 'ROCE': '79.73%',\n",
       " 'Profit Growth': '11.39%'}"
      ]
     },
     "execution_count": 128,
     "metadata": {},
     "output_type": "execute_result"
    }
   ],
   "source": [
    "values_dict"
   ]
  },
  {
   "cell_type": "code",
   "execution_count": 181,
   "metadata": {},
   "outputs": [
    {
     "data": {
      "text/plain": [
       "'Mozilla/5.0 (Windows NT 10.0; Win64; x64) AppleWebKit/537.36 (KHTML, like Gecko) Chrome/58.0.3029.110 Safari/537.3'"
      ]
     },
     "execution_count": 181,
     "metadata": {},
     "output_type": "execute_result"
    }
   ],
   "source": [
    "import requests\n",
    "import random\n",
    "import string\n",
    "\n",
    "# Define a function to generate a random User-Agent\n",
    "\n",
    "    # Example list of User-Agents\n",
    "user_agents = [\n",
    "        \"Mozilla/5.0 (Windows NT 10.0; Win64; x64) AppleWebKit/537.36 (KHTML, like Gecko) Chrome/58.0.3029.110 Safari/537.3\",\n",
    "        \"Mozilla/5.0 (Windows NT 6.1; WOW64; Trident/7.0; AS; rv:11.0) like Gecko\",\n",
    "        \"Mozilla/5.0 (Macintosh; Intel Mac OS X 10_15_7) AppleWebKit/605.1.15 (KHTML, like Gecko) Version/14.0.3 Safari/605.1.15\"\n",
    "    ]\n",
    "random.choice(user_agents)"
   ]
  },
  {
   "cell_type": "code",
   "execution_count": 182,
   "metadata": {},
   "outputs": [],
   "source": [
    "response = requests.get(\"https://finance.yahoo.com/quote/INFY.NS?p=INFY.NS\", headers={'User-agent': random.choice(user_agents)})\n",
    "# html_string = StringIO(response.text)\n",
    "# tables = pd.read_html(html_string)\n",
    "# data = pd.concat([tables[0], tables[1]], axis=0)"
   ]
  },
  {
   "cell_type": "code",
   "execution_count": 185,
   "metadata": {},
   "outputs": [],
   "source": [
    "response = requests.get(\"https://www.google.com/finance/quote/INFY:NSE\", headers={'User-agent': random.choice(user_agents)})"
   ]
  },
  {
   "cell_type": "code",
   "execution_count": 188,
   "metadata": {},
   "outputs": [],
   "source": [
    "soup_google = BeautifulSoup(response.content, 'html.parser')"
   ]
  },
  {
   "cell_type": "code",
   "execution_count": 190,
   "metadata": {},
   "outputs": [
    {
     "data": {
      "text/plain": [
       "'₹1,434.15'"
      ]
     },
     "execution_count": 190,
     "metadata": {},
     "output_type": "execute_result"
    }
   ],
   "source": [
    "soup_google.find('div', 'YMlKec fxKbKc').text"
   ]
  },
  {
   "cell_type": "code",
   "execution_count": 196,
   "metadata": {},
   "outputs": [],
   "source": [
    "data_google = soup_google.find_all(\"div\", class_=\"gyFHrc\")"
   ]
  },
  {
   "cell_type": "code",
   "execution_count": 200,
   "metadata": {},
   "outputs": [
    {
     "name": "stdout",
     "output_type": "stream",
     "text": [
      "Name : Previous close\n",
      "Value : ₹1,427.30\n",
      "Name : Day range\n",
      "Value : ₹1,424.85 - ₹1,449.95\n",
      "Name : Year range\n",
      "Value : ₹1,239.05 - ₹1,733.00\n",
      "Name : Market cap\n",
      "Value : 5.96T INR\n",
      "Name : Avg Volume\n",
      "Value : 7.85M\n",
      "Name : P/E ratio\n",
      "Value : 22.66\n",
      "Name : Dividend yield\n",
      "Value : 2.65%\n",
      "Name : Primary exchange\n",
      "Value : NSE\n",
      "Name : CEO\n",
      "Value : Salil Parekh\n",
      "Name : Founded\n",
      "Value : Jul 2, 1981\n",
      "Name : Headquarters\n",
      "Value : Bengaluru, KarnatakaIndia\n",
      "Name : Website\n",
      "Value : infosys.com\n",
      "Name : Employees\n",
      "Value : 317,240\n"
     ]
    }
   ],
   "source": [
    "for i in data_google:\n",
    "\tprint(\"Name :\", i.find(\"div\", class_=\"mfs7Fc\").text)\n",
    "\tprint(\"Value :\", i.find(\"div\", class_=\"P6K39c\").text)"
   ]
  },
  {
   "cell_type": "code",
   "execution_count": 207,
   "metadata": {},
   "outputs": [],
   "source": [
    "def get_quote_table_google(ticker):\n",
    "    site = \"https://www.google.com/finance/quote/\" + ticker +\":NSE\"\n",
    "    response = requests.get(site, headers={'User-agent': 'Mozilla/5.0'})\n",
    "    soup = BeautifulSoup(response.content, 'html.parser')\n",
    "    values_dict = {}\n",
    "    values_dict[\"Quote Price\"] = soup.find('div', 'YMlKec fxKbKc').text\n",
    "    data = soup.find_all(\"div\", class_=\"gyFHrc\")\n",
    "    for i in data:\n",
    "        values_dict[i.find(\"div\", class_=\"mfs7Fc\").text] = i.find(\"div\", class_=\"P6K39c\").text.strip()\n",
    "    return values_dict"
   ]
  },
  {
   "cell_type": "code",
   "execution_count": 208,
   "metadata": {},
   "outputs": [
    {
     "data": {
      "text/plain": [
       "{'Quote Price': '₹1,434.15',\n",
       " 'Previous close': '₹1,427.30',\n",
       " 'Day range': '₹1,424.85 - ₹1,449.95',\n",
       " 'Year range': '₹1,239.05 - ₹1,733.00',\n",
       " 'Market cap': '5.96T INR',\n",
       " 'Avg Volume': '7.85M',\n",
       " 'P/E ratio': '22.66',\n",
       " 'Dividend yield': '2.65%',\n",
       " 'Primary exchange': 'NSE',\n",
       " 'CEO': 'Salil Parekh',\n",
       " 'Founded': 'Jul 2, 1981',\n",
       " 'Headquarters': 'Bengaluru, KarnatakaIndia',\n",
       " 'Website': 'infosys.com',\n",
       " 'Employees': '317,240'}"
      ]
     },
     "execution_count": 208,
     "metadata": {},
     "output_type": "execute_result"
    }
   ],
   "source": [
    "get_quote_table_google(\"INFY\")"
   ]
  },
  {
   "cell_type": "code",
   "execution_count": 156,
   "metadata": {},
   "outputs": [],
   "source": [
    "def get_quote_table(ticker , dict_result = True, headers = {'User-agent': 'Mozilla/5.0'}): \n",
    "    site = \"https://finance.yahoo.com/quote/\" + ticker + \"?p=\" + ticker\n",
    "    response = requests.get(site, headers={'User-agent': 'Mozilla/5.0'})\n",
    "    soup2 = BeautifulSoup(response.content, 'html.parser')\n",
    "    values_dict = {}\n",
    "    values_dict[\"Quote Price\"] = soup2.find('fin-streamer', class_='livePrice')['data-value']\n",
    "    data = soup2.find_all(\"li\",\"svelte-tx3nkj\")\n",
    "    for i in data:\n",
    "\t    values_dict[i.find(\"span\",\"label svelte-tx3nkj\").text] = i.find(\"span\",\"value svelte-tx3nkj\").text.strip()\n",
    "    return values_dict"
   ]
  },
  {
   "cell_type": "code",
   "execution_count": 184,
   "metadata": {},
   "outputs": [
    {
     "data": {
      "text/plain": [
       "{'Quote Price': '3960.2',\n",
       " 'Previous Close': '3,976.95',\n",
       " 'Open': '3,962.00',\n",
       " 'Bid': '--',\n",
       " 'Ask': '--',\n",
       " \"Day's Range\": '3,910.05 - 3,971.00',\n",
       " '52 Week Range': '3,156.00 - 4,254.75',\n",
       " 'Volume': '1,726,442',\n",
       " 'Avg. Volume': '2,523,752',\n",
       " 'Market Cap (intraday)': '14.328T',\n",
       " 'Beta (5Y Monthly)': '0.52',\n",
       " 'PE Ratio (TTM)': '32.23',\n",
       " 'EPS (TTM)': '122.89',\n",
       " 'Earnings Date': 'Jul 11, 2024',\n",
       " 'Forward Dividend & Yield': '112.00 (2.82%)',\n",
       " 'Ex-Dividend Date': 'May 16, 2024',\n",
       " '1y Target Est': '4,186.40'}"
      ]
     },
     "execution_count": 184,
     "metadata": {},
     "output_type": "execute_result"
    }
   ],
   "source": [
    "get_quote_table(\"TCS.NS\")"
   ]
  },
  {
   "cell_type": "code",
   "execution_count": 150,
   "metadata": {},
   "outputs": [],
   "source": [
    "values_dict = {}"
   ]
  },
  {
   "cell_type": "code",
   "execution_count": 175,
   "metadata": {},
   "outputs": [
    {
     "ename": "TypeError",
     "evalue": "'NoneType' object is not subscriptable",
     "output_type": "error",
     "traceback": [
      "\u001b[1;31m---------------------------------------------------------------------------\u001b[0m",
      "\u001b[1;31mTypeError\u001b[0m                                 Traceback (most recent call last)",
      "Cell \u001b[1;32mIn[175], line 3\u001b[0m\n\u001b[0;32m      1\u001b[0m soup2 \u001b[38;5;241m=\u001b[39m BeautifulSoup(response\u001b[38;5;241m.\u001b[39mcontent, \u001b[38;5;124m'\u001b[39m\u001b[38;5;124mhtml.parser\u001b[39m\u001b[38;5;124m'\u001b[39m)\n\u001b[1;32m----> 3\u001b[0m values_dict[\u001b[38;5;124m\"\u001b[39m\u001b[38;5;124mQuote Price\u001b[39m\u001b[38;5;124m\"\u001b[39m] \u001b[38;5;241m=\u001b[39m \u001b[43msoup2\u001b[49m\u001b[38;5;241;43m.\u001b[39;49m\u001b[43mfind\u001b[49m\u001b[43m(\u001b[49m\u001b[38;5;124;43m'\u001b[39;49m\u001b[38;5;124;43mfin-streamer\u001b[39;49m\u001b[38;5;124;43m'\u001b[39;49m\u001b[43m,\u001b[49m\u001b[43m \u001b[49m\u001b[43mclass_\u001b[49m\u001b[38;5;241;43m=\u001b[39;49m\u001b[38;5;124;43m'\u001b[39;49m\u001b[38;5;124;43mlivePrice\u001b[39;49m\u001b[38;5;124;43m'\u001b[39;49m\u001b[43m)\u001b[49m\u001b[43m[\u001b[49m\u001b[38;5;124;43m'\u001b[39;49m\u001b[38;5;124;43mdata-value\u001b[39;49m\u001b[38;5;124;43m'\u001b[39;49m\u001b[43m]\u001b[49m\n\u001b[0;32m      4\u001b[0m data \u001b[38;5;241m=\u001b[39m soup2\u001b[38;5;241m.\u001b[39mfind_all(\u001b[38;5;124m\"\u001b[39m\u001b[38;5;124mli\u001b[39m\u001b[38;5;124m\"\u001b[39m,\u001b[38;5;124m\"\u001b[39m\u001b[38;5;124msvelte-tx3nkj\u001b[39m\u001b[38;5;124m\"\u001b[39m)\n\u001b[0;32m      5\u001b[0m \u001b[38;5;28;01mfor\u001b[39;00m i \u001b[38;5;129;01min\u001b[39;00m data:\n",
      "\u001b[1;31mTypeError\u001b[0m: 'NoneType' object is not subscriptable"
     ]
    }
   ],
   "source": [
    "soup2 = BeautifulSoup(response.content, 'html.parser')\n",
    "\n",
    "values_dict[\"Quote Price\"] = soup2.find('fin-streamer', class_='livePrice')['data-value']\n",
    "data = soup2.find_all(\"li\",\"svelte-tx3nkj\")\n",
    "for i in data:\n",
    "\tvalues_dict[i.find(\"span\",\"label svelte-tx3nkj\").text] = i.find(\"span\",\"value svelte-tx3nkj\").text.strip()"
   ]
  },
  {
   "cell_type": "code",
   "execution_count": 152,
   "metadata": {},
   "outputs": [
    {
     "data": {
      "text/plain": [
       "{'Quote Price': '3960.2',\n",
       " 'Previous Close': '3,976.95',\n",
       " 'Open': '3,962.00',\n",
       " 'Bid': '--',\n",
       " 'Ask': '--',\n",
       " \"Day's Range\": '3,910.05 - 3,971.00',\n",
       " '52 Week Range': '3,156.00 - 4,254.75',\n",
       " 'Volume': '1,726,442',\n",
       " 'Avg. Volume': '2,523,752',\n",
       " 'Market Cap (intraday)': '14.328T',\n",
       " 'Beta (5Y Monthly)': '0.52',\n",
       " 'PE Ratio (TTM)': '32.23',\n",
       " 'EPS (TTM)': '122.89',\n",
       " 'Earnings Date': 'Jul 11, 2024',\n",
       " 'Forward Dividend & Yield': '112.00 (2.82%)',\n",
       " 'Ex-Dividend Date': 'May 16, 2024',\n",
       " '1y Target Est': '4,186.40'}"
      ]
     },
     "execution_count": 152,
     "metadata": {},
     "output_type": "execute_result"
    }
   ],
   "source": [
    "values_dict"
   ]
  },
  {
   "cell_type": "code",
   "execution_count": 30,
   "metadata": {},
   "outputs": [
    {
     "name": "stderr",
     "output_type": "stream",
     "text": [
      "C:\\Users\\91879\\AppData\\Local\\Temp\\ipykernel_8044\\4093654230.py:99: FutureWarning: Series.__getitem__ treating keys as positions is deprecated. In a future version, integer keys will always be treated as labels (consistent with DataFrame behavior). To access a value by position, use `ser.iloc[pos]`\n",
      "  return df.close[-1]\n"
     ]
    }
   ],
   "source": [
    "ticker = stock_dict[\"ICICI Bank Limited\"]\n",
    "ticker_yf = ticker+\".NS\"\n",
    "quote_data = get_quote_table(ticker_yf)"
   ]
  },
  {
   "cell_type": "code",
   "execution_count": 31,
   "metadata": {},
   "outputs": [
    {
     "data": {
      "text/plain": [
       "{'1y Target Est': 788.07,\n",
       " '52 Week Range': '796.00 - 1,043.70',\n",
       " 'Ask': '0.00 x 0',\n",
       " 'Avg. Volume': 13613257.0,\n",
       " 'Beta (5Y Monthly)': 0.8,\n",
       " 'Bid': '0.00 x 0',\n",
       " \"Day's Range\": '1,004.60 - 1,015.80',\n",
       " 'EPS (TTM)': 56.4,\n",
       " 'Earnings Date': 'Jan 20, 2024',\n",
       " 'Ex-Dividend Date': 'Aug 09, 2023',\n",
       " 'Forward Dividend & Yield': '8.00 (0.80%)',\n",
       " 'Market Cap': '7.078T',\n",
       " 'Open': 1006.1,\n",
       " 'PE Ratio (TTM)': 17.89,\n",
       " 'Previous Close': 1009.85,\n",
       " 'Quote Price': 1009.0499877929688,\n",
       " 'Volume': 11503865.0}"
      ]
     },
     "execution_count": 31,
     "metadata": {},
     "output_type": "execute_result"
    }
   ],
   "source": [
    "quote_data"
   ]
  },
  {
   "cell_type": "code",
   "execution_count": null,
   "metadata": {},
   "outputs": [],
   "source": [
    "def get_tables(ticker):\n",
    "    tables = pd.read_html(\"https://ticker.finology.in/company/\"+\"ICICIBANK\")\n",
    "    return tables\n",
    "\n",
    "#Separating Balance Sheet\n",
    "def get_balance_sheet(ticker):\n",
    "    balance_sheet = get_tables(ticker)[3]\n",
    "    balance_sheet.reset_index(drop=True,inplace=True)\n",
    "    balance_sheet.fillna(\"-\",inplace=True)\n",
    "    return balance_sheet"
   ]
  },
  {
   "cell_type": "code",
   "execution_count": 34,
   "metadata": {},
   "outputs": [],
   "source": [
    "res = requests.get(\"https://ticker.finology.in/company/\"+\"ICICIBANK\").text\n",
    "tables = pd.read_html(StringIO(res))"
   ]
  },
  {
   "cell_type": "code",
   "execution_count": 36,
   "metadata": {},
   "outputs": [
    {
     "data": {
      "text/html": [
       "<div>\n",
       "<style scoped>\n",
       "    .dataframe tbody tr th:only-of-type {\n",
       "        vertical-align: middle;\n",
       "    }\n",
       "\n",
       "    .dataframe tbody tr th {\n",
       "        vertical-align: top;\n",
       "    }\n",
       "\n",
       "    .dataframe thead th {\n",
       "        text-align: right;\n",
       "    }\n",
       "</style>\n",
       "<table border=\"1\" class=\"dataframe\">\n",
       "  <thead>\n",
       "    <tr style=\"text-align: right;\">\n",
       "      <th></th>\n",
       "      <th>Particulars</th>\n",
       "      <th>Mar 2019</th>\n",
       "      <th>Mar 2020</th>\n",
       "      <th>Mar 2021</th>\n",
       "      <th>Mar 2022</th>\n",
       "      <th>Mar 2023</th>\n",
       "    </tr>\n",
       "  </thead>\n",
       "  <tbody>\n",
       "    <tr>\n",
       "      <th>0</th>\n",
       "      <td>Equity and Liabilities</td>\n",
       "      <td>NaN</td>\n",
       "      <td>NaN</td>\n",
       "      <td>NaN</td>\n",
       "      <td>NaN</td>\n",
       "      <td>NaN</td>\n",
       "    </tr>\n",
       "    <tr>\n",
       "      <th>1</th>\n",
       "      <td>Share Capital</td>\n",
       "      <td>1289.46</td>\n",
       "      <td>1294.76</td>\n",
       "      <td>1383.41</td>\n",
       "      <td>1389.97</td>\n",
       "      <td>1396.78</td>\n",
       "    </tr>\n",
       "    <tr>\n",
       "      <th>2</th>\n",
       "      <td>Total Reserves</td>\n",
       "      <td>107073.91</td>\n",
       "      <td>115206.16</td>\n",
       "      <td>146122.67</td>\n",
       "      <td>168855.59</td>\n",
       "      <td>198557.72</td>\n",
       "    </tr>\n",
       "    <tr>\n",
       "      <th>3</th>\n",
       "      <td>Deposits</td>\n",
       "      <td>652919.67</td>\n",
       "      <td>770968.99</td>\n",
       "      <td>932522.16</td>\n",
       "      <td>1064571.61</td>\n",
       "      <td>1180840.70</td>\n",
       "    </tr>\n",
       "    <tr>\n",
       "      <th>4</th>\n",
       "      <td>Borrowings</td>\n",
       "      <td>165319.97</td>\n",
       "      <td>162896.76</td>\n",
       "      <td>91630.96</td>\n",
       "      <td>107231.36</td>\n",
       "      <td>119325.49</td>\n",
       "    </tr>\n",
       "    <tr>\n",
       "      <th>5</th>\n",
       "      <td>Other Liabilities</td>\n",
       "      <td>37851.46</td>\n",
       "      <td>47994.99</td>\n",
       "      <td>58770.37</td>\n",
       "      <td>68982.79</td>\n",
       "      <td>83325.08</td>\n",
       "    </tr>\n",
       "    <tr>\n",
       "      <th>6</th>\n",
       "      <td>Total Liabilities</td>\n",
       "      <td>964459.15</td>\n",
       "      <td>1098365.15</td>\n",
       "      <td>1230432.68</td>\n",
       "      <td>1411297.74</td>\n",
       "      <td>1584206.65</td>\n",
       "    </tr>\n",
       "    <tr>\n",
       "      <th>7</th>\n",
       "      <td>Assets</td>\n",
       "      <td>NaN</td>\n",
       "      <td>NaN</td>\n",
       "      <td>NaN</td>\n",
       "      <td>NaN</td>\n",
       "      <td>NaN</td>\n",
       "    </tr>\n",
       "    <tr>\n",
       "      <th>8</th>\n",
       "      <td>Balance with RBI</td>\n",
       "      <td>37858.01</td>\n",
       "      <td>35283.96</td>\n",
       "      <td>46031.19</td>\n",
       "      <td>109522.82</td>\n",
       "      <td>68526.17</td>\n",
       "    </tr>\n",
       "    <tr>\n",
       "      <th>9</th>\n",
       "      <td>Balance with Banks</td>\n",
       "      <td>42438.27</td>\n",
       "      <td>83871.78</td>\n",
       "      <td>87097.06</td>\n",
       "      <td>58299.54</td>\n",
       "      <td>50912.10</td>\n",
       "    </tr>\n",
       "    <tr>\n",
       "      <th>10</th>\n",
       "      <td>Investments</td>\n",
       "      <td>207732.68</td>\n",
       "      <td>249531.48</td>\n",
       "      <td>281286.54</td>\n",
       "      <td>310241.00</td>\n",
       "      <td>362329.74</td>\n",
       "    </tr>\n",
       "    <tr>\n",
       "      <th>11</th>\n",
       "      <td>Advances</td>\n",
       "      <td>586646.58</td>\n",
       "      <td>645289.97</td>\n",
       "      <td>733729.09</td>\n",
       "      <td>859020.44</td>\n",
       "      <td>1019638.31</td>\n",
       "    </tr>\n",
       "    <tr>\n",
       "      <th>12</th>\n",
       "      <td>Net Block</td>\n",
       "      <td>7931.43</td>\n",
       "      <td>8410.29</td>\n",
       "      <td>8877.58</td>\n",
       "      <td>9373.82</td>\n",
       "      <td>9599.84</td>\n",
       "    </tr>\n",
       "    <tr>\n",
       "      <th>13</th>\n",
       "      <td>Other Assets</td>\n",
       "      <td>81852.17</td>\n",
       "      <td>75977.67</td>\n",
       "      <td>73411.21</td>\n",
       "      <td>64840.12</td>\n",
       "      <td>73200.50</td>\n",
       "    </tr>\n",
       "    <tr>\n",
       "      <th>14</th>\n",
       "      <td>Total Assets</td>\n",
       "      <td>964459.15</td>\n",
       "      <td>1098365.15</td>\n",
       "      <td>1230432.68</td>\n",
       "      <td>1411297.74</td>\n",
       "      <td>1584206.65</td>\n",
       "    </tr>\n",
       "  </tbody>\n",
       "</table>\n",
       "</div>"
      ],
      "text/plain": [
       "               Particulars   Mar 2019    Mar 2020    Mar 2021    Mar 2022  \\\n",
       "0   Equity and Liabilities        NaN         NaN         NaN         NaN   \n",
       "1            Share Capital    1289.46     1294.76     1383.41     1389.97   \n",
       "2           Total Reserves  107073.91   115206.16   146122.67   168855.59   \n",
       "3                 Deposits  652919.67   770968.99   932522.16  1064571.61   \n",
       "4               Borrowings  165319.97   162896.76    91630.96   107231.36   \n",
       "5        Other Liabilities   37851.46    47994.99    58770.37    68982.79   \n",
       "6        Total Liabilities  964459.15  1098365.15  1230432.68  1411297.74   \n",
       "7                   Assets        NaN         NaN         NaN         NaN   \n",
       "8         Balance with RBI   37858.01    35283.96    46031.19   109522.82   \n",
       "9       Balance with Banks   42438.27    83871.78    87097.06    58299.54   \n",
       "10             Investments  207732.68   249531.48   281286.54   310241.00   \n",
       "11                Advances  586646.58   645289.97   733729.09   859020.44   \n",
       "12               Net Block    7931.43     8410.29     8877.58     9373.82   \n",
       "13            Other Assets   81852.17    75977.67    73411.21    64840.12   \n",
       "14            Total Assets  964459.15  1098365.15  1230432.68  1411297.74   \n",
       "\n",
       "      Mar 2023  \n",
       "0          NaN  \n",
       "1      1396.78  \n",
       "2    198557.72  \n",
       "3   1180840.70  \n",
       "4    119325.49  \n",
       "5     83325.08  \n",
       "6   1584206.65  \n",
       "7          NaN  \n",
       "8     68526.17  \n",
       "9     50912.10  \n",
       "10   362329.74  \n",
       "11  1019638.31  \n",
       "12     9599.84  \n",
       "13    73200.50  \n",
       "14  1584206.65  "
      ]
     },
     "execution_count": 36,
     "metadata": {},
     "output_type": "execute_result"
    }
   ],
   "source": [
    "tables[3]"
   ]
  },
  {
   "cell_type": "code",
   "execution_count": 161,
   "metadata": {},
   "outputs": [],
   "source": [
    "ticker = \"TCS.NS\"\n",
    "headers = {'User-agent': 'Mozilla/5.0'}"
   ]
  },
  {
   "cell_type": "code",
   "execution_count": 162,
   "metadata": {},
   "outputs": [],
   "source": [
    "stats_site = \"https://finance.yahoo.com/quote/\" + ticker + \\\n",
    "                 \"/key-statistics?p=\" + ticker\n",
    "    \n",
    "\n",
    "tables = pd.read_html(StringIO(requests.get(stats_site, headers=headers).text))\n",
    "\n",
    "tables = [table for table in tables if \"Trailing P/E\" in table.iloc[:,0].tolist()]\n",
    "\n",
    "\n",
    "table = tables[0].reset_index(drop = True)"
   ]
  },
  {
   "cell_type": "code",
   "execution_count": 169,
   "metadata": {},
   "outputs": [],
   "source": [
    "table = pd.DataFrame(table)"
   ]
  },
  {
   "cell_type": "code",
   "execution_count": 170,
   "metadata": {},
   "outputs": [],
   "source": [
    "table.fillna(\"n/a\",inplace=True)\n",
    "attr = list(table.iloc[:,0])\n",
    "val = list(table.iloc[:,1])\n",
    "stats_value_dict = dict(zip(attr,val))"
   ]
  },
  {
   "cell_type": "code",
   "execution_count": 171,
   "metadata": {},
   "outputs": [
    {
     "data": {
      "text/plain": [
       "{'Market Cap': '14.39T',\n",
       " 'Enterprise Value': '13.92T',\n",
       " 'Trailing P/E': '32.41',\n",
       " 'Forward P/E': '26.81',\n",
       " 'PEG Ratio (5yr expected)': '2.83',\n",
       " 'Price/Sales': '6.09',\n",
       " 'Price/Book': '14.29',\n",
       " 'Enterprise Value/Revenue': '5.78',\n",
       " 'Enterprise Value/EBITDA': '20.54'}"
      ]
     },
     "execution_count": 171,
     "metadata": {},
     "output_type": "execute_result"
    }
   ],
   "source": [
    "stats_value_dict"
   ]
  },
  {
   "cell_type": "code",
   "execution_count": 172,
   "metadata": {},
   "outputs": [
    {
     "ename": "KeyError",
     "evalue": "'PEG Ratio (5 yr expected)'",
     "output_type": "error",
     "traceback": [
      "\u001b[1;31m---------------------------------------------------------------------------\u001b[0m",
      "\u001b[1;31mKeyError\u001b[0m                                  Traceback (most recent call last)",
      "Cell \u001b[1;32mIn[172], line 1\u001b[0m\n\u001b[1;32m----> 1\u001b[0m \u001b[43mstats_value_dict\u001b[49m\u001b[43m[\u001b[49m\u001b[38;5;124;43m'\u001b[39;49m\u001b[38;5;124;43mPEG Ratio (5 yr expected)\u001b[39;49m\u001b[38;5;124;43m'\u001b[39;49m\u001b[43m]\u001b[49m\n",
      "\u001b[1;31mKeyError\u001b[0m: 'PEG Ratio (5 yr expected)'"
     ]
    }
   ],
   "source": [
    "stats_value_dict['PEG Ratio (5 yr expected)']"
   ]
  }
 ],
 "metadata": {
  "kernelspec": {
   "display_name": "check",
   "language": "python",
   "name": "python3"
  },
  "language_info": {
   "codemirror_mode": {
    "name": "ipython",
    "version": 3
   },
   "file_extension": ".py",
   "mimetype": "text/x-python",
   "name": "python",
   "nbconvert_exporter": "python",
   "pygments_lexer": "ipython3",
   "version": "3.11.8"
  }
 },
 "nbformat": 4,
 "nbformat_minor": 2
}
